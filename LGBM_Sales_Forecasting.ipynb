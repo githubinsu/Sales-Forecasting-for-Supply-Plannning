{
 "cells": [
  {
   "cell_type": "code",
   "execution_count": 1,
   "id": "d2f31076",
   "metadata": {},
   "outputs": [],
   "source": [
    "import pandas as pd\n",
    "from datetime import datetime\n",
    "from lightgbm import LGBMRegressor\n",
    "from sklearn.model_selection import train_test_split\n",
    "\n",
    "import numpy as np\n",
    "import matplotlib.pyplot as plt\n",
    "from sklearn.metrics import mean_squared_error, mean_absolute_error, r2_score\n",
    "\n",
    "from skopt import BayesSearchCV"
   ]
  },
  {
   "cell_type": "code",
   "execution_count": 2,
   "id": "61d93001",
   "metadata": {},
   "outputs": [],
   "source": [
    "df = pd.read_csv('Sales_Data.csv')"
   ]
  },
  {
   "cell_type": "code",
   "execution_count": 3,
   "id": "aa6a246f",
   "metadata": {
    "scrolled": false
   },
   "outputs": [
    {
     "data": {
      "text/html": [
       "<div>\n",
       "<style scoped>\n",
       "    .dataframe tbody tr th:only-of-type {\n",
       "        vertical-align: middle;\n",
       "    }\n",
       "\n",
       "    .dataframe tbody tr th {\n",
       "        vertical-align: top;\n",
       "    }\n",
       "\n",
       "    .dataframe thead th {\n",
       "        text-align: right;\n",
       "    }\n",
       "</style>\n",
       "<table border=\"1\" class=\"dataframe\">\n",
       "  <thead>\n",
       "    <tr style=\"text-align: right;\">\n",
       "      <th></th>\n",
       "      <th>Date</th>\n",
       "      <th>Customer</th>\n",
       "      <th>SKU</th>\n",
       "      <th>Actual_Price</th>\n",
       "      <th>List_Price</th>\n",
       "      <th>Discount_Rate</th>\n",
       "      <th>Featured_SKU</th>\n",
       "      <th>Units_Sold</th>\n",
       "    </tr>\n",
       "  </thead>\n",
       "  <tbody>\n",
       "    <tr>\n",
       "      <th>0</th>\n",
       "      <td>2023-07-01</td>\n",
       "      <td>8091</td>\n",
       "      <td>216418</td>\n",
       "      <td>88.3500</td>\n",
       "      <td>106.1625</td>\n",
       "      <td>0.17</td>\n",
       "      <td>0</td>\n",
       "      <td>73</td>\n",
       "    </tr>\n",
       "    <tr>\n",
       "      <th>1</th>\n",
       "      <td>2023-07-01</td>\n",
       "      <td>8091</td>\n",
       "      <td>216419</td>\n",
       "      <td>88.3500</td>\n",
       "      <td>105.4500</td>\n",
       "      <td>0.16</td>\n",
       "      <td>0</td>\n",
       "      <td>111</td>\n",
       "    </tr>\n",
       "    <tr>\n",
       "      <th>2</th>\n",
       "      <td>2023-07-01</td>\n",
       "      <td>8091</td>\n",
       "      <td>216425</td>\n",
       "      <td>133.2375</td>\n",
       "      <td>133.2375</td>\n",
       "      <td>0.00</td>\n",
       "      <td>0</td>\n",
       "      <td>17</td>\n",
       "    </tr>\n",
       "    <tr>\n",
       "      <th>3</th>\n",
       "      <td>2023-07-01</td>\n",
       "      <td>8091</td>\n",
       "      <td>216233</td>\n",
       "      <td>132.5250</td>\n",
       "      <td>132.5250</td>\n",
       "      <td>0.00</td>\n",
       "      <td>0</td>\n",
       "      <td>29</td>\n",
       "    </tr>\n",
       "    <tr>\n",
       "      <th>4</th>\n",
       "      <td>2023-07-01</td>\n",
       "      <td>8091</td>\n",
       "      <td>217390</td>\n",
       "      <td>142.5000</td>\n",
       "      <td>168.8625</td>\n",
       "      <td>0.16</td>\n",
       "      <td>0</td>\n",
       "      <td>51</td>\n",
       "    </tr>\n",
       "    <tr>\n",
       "      <th>...</th>\n",
       "      <td>...</td>\n",
       "      <td>...</td>\n",
       "      <td>...</td>\n",
       "      <td>...</td>\n",
       "      <td>...</td>\n",
       "      <td>...</td>\n",
       "      <td>...</td>\n",
       "      <td>...</td>\n",
       "    </tr>\n",
       "    <tr>\n",
       "      <th>150137</th>\n",
       "      <td>2023-11-07</td>\n",
       "      <td>9984</td>\n",
       "      <td>223245</td>\n",
       "      <td>206.6250</td>\n",
       "      <td>192.3750</td>\n",
       "      <td>-0.07</td>\n",
       "      <td>0</td>\n",
       "      <td>67</td>\n",
       "    </tr>\n",
       "    <tr>\n",
       "      <th>150138</th>\n",
       "      <td>2023-11-07</td>\n",
       "      <td>9984</td>\n",
       "      <td>223153</td>\n",
       "      <td>213.0375</td>\n",
       "      <td>213.0375</td>\n",
       "      <td>0.00</td>\n",
       "      <td>0</td>\n",
       "      <td>63</td>\n",
       "    </tr>\n",
       "    <tr>\n",
       "      <th>150139</th>\n",
       "      <td>2023-11-07</td>\n",
       "      <td>9984</td>\n",
       "      <td>245338</td>\n",
       "      <td>469.5375</td>\n",
       "      <td>469.5375</td>\n",
       "      <td>0.00</td>\n",
       "      <td>0</td>\n",
       "      <td>7</td>\n",
       "    </tr>\n",
       "    <tr>\n",
       "      <th>150140</th>\n",
       "      <td>2023-11-07</td>\n",
       "      <td>9984</td>\n",
       "      <td>547934</td>\n",
       "      <td>170.2875</td>\n",
       "      <td>170.2875</td>\n",
       "      <td>0.00</td>\n",
       "      <td>0</td>\n",
       "      <td>7</td>\n",
       "    </tr>\n",
       "    <tr>\n",
       "      <th>150141</th>\n",
       "      <td>2023-11-07</td>\n",
       "      <td>9984</td>\n",
       "      <td>679023</td>\n",
       "      <td>213.0375</td>\n",
       "      <td>213.0375</td>\n",
       "      <td>0.00</td>\n",
       "      <td>0</td>\n",
       "      <td>4</td>\n",
       "    </tr>\n",
       "  </tbody>\n",
       "</table>\n",
       "<p>150142 rows × 8 columns</p>\n",
       "</div>"
      ],
      "text/plain": [
       "              Date  Customer     SKU  Actual_Price  List_Price  Discount_Rate  \\\n",
       "0       2023-07-01      8091  216418       88.3500    106.1625           0.17   \n",
       "1       2023-07-01      8091  216419       88.3500    105.4500           0.16   \n",
       "2       2023-07-01      8091  216425      133.2375    133.2375           0.00   \n",
       "3       2023-07-01      8091  216233      132.5250    132.5250           0.00   \n",
       "4       2023-07-01      8091  217390      142.5000    168.8625           0.16   \n",
       "...            ...       ...     ...           ...         ...            ...   \n",
       "150137  2023-11-07      9984  223245      206.6250    192.3750          -0.07   \n",
       "150138  2023-11-07      9984  223153      213.0375    213.0375           0.00   \n",
       "150139  2023-11-07      9984  245338      469.5375    469.5375           0.00   \n",
       "150140  2023-11-07      9984  547934      170.2875    170.2875           0.00   \n",
       "150141  2023-11-07      9984  679023      213.0375    213.0375           0.00   \n",
       "\n",
       "        Featured_SKU  Units_Sold  \n",
       "0                  0          73  \n",
       "1                  0         111  \n",
       "2                  0          17  \n",
       "3                  0          29  \n",
       "4                  0          51  \n",
       "...              ...         ...  \n",
       "150137             0          67  \n",
       "150138             0          63  \n",
       "150139             0           7  \n",
       "150140             0           7  \n",
       "150141             0           4  \n",
       "\n",
       "[150142 rows x 8 columns]"
      ]
     },
     "execution_count": 3,
     "metadata": {},
     "output_type": "execute_result"
    }
   ],
   "source": [
    "df"
   ]
  },
  {
   "cell_type": "code",
   "execution_count": 4,
   "id": "3172eb07",
   "metadata": {},
   "outputs": [],
   "source": [
    "df['Date'] = pd.to_datetime(df['Date'])\n",
    "df['Date'] = df['Date'].apply(lambda x: x.timestamp())"
   ]
  },
  {
   "cell_type": "code",
   "execution_count": 5,
   "id": "0003870e",
   "metadata": {},
   "outputs": [],
   "source": [
    "X = df.drop(columns = ['Units_Sold'])\n",
    "y = df[['Units_Sold']]"
   ]
  },
  {
   "cell_type": "code",
   "execution_count": 6,
   "id": "dd72e513",
   "metadata": {},
   "outputs": [],
   "source": [
    "X_train, X_test, y_train, y_test = train_test_split(X, y, test_size=0.2, random_state=9)"
   ]
  },
  {
   "cell_type": "code",
   "execution_count": 7,
   "id": "2597eff3",
   "metadata": {},
   "outputs": [],
   "source": [
    "best_params = {\n",
    "    'colsample_bytree': 0.5,\n",
    "    'learning_rate': 0.12182583714621935,\n",
    "    'max_depth': 15,\n",
    "    'min_child_samples': 10,\n",
    "    'n_estimators': 1000,\n",
    "    'num_leaves': 32,\n",
    "    'subsample': 0.5,\n",
    "    'random_state': 0\n",
    "}\n"
   ]
  },
  {
   "cell_type": "code",
   "execution_count": 8,
   "id": "dd93fdce",
   "metadata": {},
   "outputs": [
    {
     "data": {
      "text/html": [
       "<style>#sk-container-id-1 {color: black;}#sk-container-id-1 pre{padding: 0;}#sk-container-id-1 div.sk-toggleable {background-color: white;}#sk-container-id-1 label.sk-toggleable__label {cursor: pointer;display: block;width: 100%;margin-bottom: 0;padding: 0.3em;box-sizing: border-box;text-align: center;}#sk-container-id-1 label.sk-toggleable__label-arrow:before {content: \"▸\";float: left;margin-right: 0.25em;color: #696969;}#sk-container-id-1 label.sk-toggleable__label-arrow:hover:before {color: black;}#sk-container-id-1 div.sk-estimator:hover label.sk-toggleable__label-arrow:before {color: black;}#sk-container-id-1 div.sk-toggleable__content {max-height: 0;max-width: 0;overflow: hidden;text-align: left;background-color: #f0f8ff;}#sk-container-id-1 div.sk-toggleable__content pre {margin: 0.2em;color: black;border-radius: 0.25em;background-color: #f0f8ff;}#sk-container-id-1 input.sk-toggleable__control:checked~div.sk-toggleable__content {max-height: 200px;max-width: 100%;overflow: auto;}#sk-container-id-1 input.sk-toggleable__control:checked~label.sk-toggleable__label-arrow:before {content: \"▾\";}#sk-container-id-1 div.sk-estimator input.sk-toggleable__control:checked~label.sk-toggleable__label {background-color: #d4ebff;}#sk-container-id-1 div.sk-label input.sk-toggleable__control:checked~label.sk-toggleable__label {background-color: #d4ebff;}#sk-container-id-1 input.sk-hidden--visually {border: 0;clip: rect(1px 1px 1px 1px);clip: rect(1px, 1px, 1px, 1px);height: 1px;margin: -1px;overflow: hidden;padding: 0;position: absolute;width: 1px;}#sk-container-id-1 div.sk-estimator {font-family: monospace;background-color: #f0f8ff;border: 1px dotted black;border-radius: 0.25em;box-sizing: border-box;margin-bottom: 0.5em;}#sk-container-id-1 div.sk-estimator:hover {background-color: #d4ebff;}#sk-container-id-1 div.sk-parallel-item::after {content: \"\";width: 100%;border-bottom: 1px solid gray;flex-grow: 1;}#sk-container-id-1 div.sk-label:hover label.sk-toggleable__label {background-color: #d4ebff;}#sk-container-id-1 div.sk-serial::before {content: \"\";position: absolute;border-left: 1px solid gray;box-sizing: border-box;top: 0;bottom: 0;left: 50%;z-index: 0;}#sk-container-id-1 div.sk-serial {display: flex;flex-direction: column;align-items: center;background-color: white;padding-right: 0.2em;padding-left: 0.2em;position: relative;}#sk-container-id-1 div.sk-item {position: relative;z-index: 1;}#sk-container-id-1 div.sk-parallel {display: flex;align-items: stretch;justify-content: center;background-color: white;position: relative;}#sk-container-id-1 div.sk-item::before, #sk-container-id-1 div.sk-parallel-item::before {content: \"\";position: absolute;border-left: 1px solid gray;box-sizing: border-box;top: 0;bottom: 0;left: 50%;z-index: -1;}#sk-container-id-1 div.sk-parallel-item {display: flex;flex-direction: column;z-index: 1;position: relative;background-color: white;}#sk-container-id-1 div.sk-parallel-item:first-child::after {align-self: flex-end;width: 50%;}#sk-container-id-1 div.sk-parallel-item:last-child::after {align-self: flex-start;width: 50%;}#sk-container-id-1 div.sk-parallel-item:only-child::after {width: 0;}#sk-container-id-1 div.sk-dashed-wrapped {border: 1px dashed gray;margin: 0 0.4em 0.5em 0.4em;box-sizing: border-box;padding-bottom: 0.4em;background-color: white;}#sk-container-id-1 div.sk-label label {font-family: monospace;font-weight: bold;display: inline-block;line-height: 1.2em;}#sk-container-id-1 div.sk-label-container {text-align: center;}#sk-container-id-1 div.sk-container {/* jupyter's `normalize.less` sets `[hidden] { display: none; }` but bootstrap.min.css set `[hidden] { display: none !important; }` so we also need the `!important` here to be able to override the default hidden behavior on the sphinx rendered scikit-learn.org. See: https://github.com/scikit-learn/scikit-learn/issues/21755 */display: inline-block !important;position: relative;}#sk-container-id-1 div.sk-text-repr-fallback {display: none;}</style><div id=\"sk-container-id-1\" class=\"sk-top-container\"><div class=\"sk-text-repr-fallback\"><pre>LGBMRegressor(colsample_bytree=0.5, learning_rate=0.12182583714621935,\n",
       "              max_depth=15, min_child_samples=10, n_estimators=1000,\n",
       "              num_leaves=32, random_state=0, subsample=0.5)</pre><b>In a Jupyter environment, please rerun this cell to show the HTML representation or trust the notebook. <br />On GitHub, the HTML representation is unable to render, please try loading this page with nbviewer.org.</b></div><div class=\"sk-container\" hidden><div class=\"sk-item\"><div class=\"sk-estimator sk-toggleable\"><input class=\"sk-toggleable__control sk-hidden--visually\" id=\"sk-estimator-id-1\" type=\"checkbox\" checked><label for=\"sk-estimator-id-1\" class=\"sk-toggleable__label sk-toggleable__label-arrow\">LGBMRegressor</label><div class=\"sk-toggleable__content\"><pre>LGBMRegressor(colsample_bytree=0.5, learning_rate=0.12182583714621935,\n",
       "              max_depth=15, min_child_samples=10, n_estimators=1000,\n",
       "              num_leaves=32, random_state=0, subsample=0.5)</pre></div></div></div></div></div>"
      ],
      "text/plain": [
       "LGBMRegressor(colsample_bytree=0.5, learning_rate=0.12182583714621935,\n",
       "              max_depth=15, min_child_samples=10, n_estimators=1000,\n",
       "              num_leaves=32, random_state=0, subsample=0.5)"
      ]
     },
     "execution_count": 8,
     "metadata": {},
     "output_type": "execute_result"
    }
   ],
   "source": [
    "model = LGBMRegressor(**best_params)\n",
    "model.fit(X_train,y_train)"
   ]
  },
  {
   "cell_type": "code",
   "execution_count": 9,
   "id": "57efcf69",
   "metadata": {},
   "outputs": [],
   "source": [
    "y_pred = model.predict(X_test)"
   ]
  },
  {
   "cell_type": "markdown",
   "id": "68e1899a",
   "metadata": {},
   "source": [
    "## 모델 성능 측정"
   ]
  },
  {
   "cell_type": "code",
   "execution_count": 10,
   "id": "5a3a109e",
   "metadata": {},
   "outputs": [],
   "source": [
    "mse = mean_squared_error(y_test, y_pred)\n",
    "mae = mean_absolute_error(y_test, y_pred)\n",
    "r2 = r2_score(y_test, y_pred)"
   ]
  },
  {
   "cell_type": "code",
   "execution_count": 11,
   "id": "bfc9773b",
   "metadata": {},
   "outputs": [
    {
     "name": "stdout",
     "output_type": "stream",
     "text": [
      "Mean Squared Error (MSE): 2217.8182475621\n",
      "Mean Absolute Error (MAE): 19.12263362904277\n",
      "R-squared (R2): 0.8459503644373128\n"
     ]
    }
   ],
   "source": [
    "print(f\"Mean Squared Error (MSE): {mse}\")\n",
    "print(f\"Mean Absolute Error (MAE): {mae}\")\n",
    "print(f\"R-squared (R2): {r2}\")"
   ]
  },
  {
   "cell_type": "markdown",
   "id": "194187a9",
   "metadata": {},
   "source": [
    "## Feature Importance 확인"
   ]
  },
  {
   "cell_type": "code",
   "execution_count": 12,
   "id": "c8d31752",
   "metadata": {},
   "outputs": [
    {
     "name": "stdout",
     "output_type": "stream",
     "text": [
      "         Feature  Importance\n",
      "1       Customer        5733\n",
      "3   Actual_Price        5524\n",
      "5  Discount_Rate        5153\n",
      "4     List_Price        5065\n",
      "0           Date        4746\n",
      "2            SKU        3566\n",
      "6   Featured_SKU        1213\n"
     ]
    }
   ],
   "source": [
    "feature_importances = model.feature_importances_\n",
    "\n",
    "feature_importance_df = pd.DataFrame({\n",
    "    'Feature': X_train.columns,\n",
    "    'Importance': feature_importances\n",
    "}).sort_values(by='Importance', ascending=False)\n",
    "\n",
    "print(feature_importance_df)"
   ]
  },
  {
   "cell_type": "code",
   "execution_count": 13,
   "id": "769e6123",
   "metadata": {},
   "outputs": [
    {
     "data": {
      "image/png": "[encoded data removed]",
      "text/plain": [
       "<Figure size 1000x600 with 1 Axes>"
      ]
     },
     "metadata": {},
     "output_type": "display_data"
    }
   ],
   "source": [
    "plt.figure(figsize=(10, 6))\n",
    "plt.barh(feature_importance_df['Feature'], feature_importance_df['Importance'])\n",
    "plt.xlabel('Importance')\n",
    "plt.ylabel('Feature')\n",
    "plt.title('Feature Importance')\n",
    "plt.gca().invert_yaxis()\n",
    "plt.show()"
   ]
  },
  {
   "cell_type": "markdown",
   "id": "331d15e6",
   "metadata": {},
   "source": [
    "## 예측값과 실제 수요량과 비교를 위한 테이블 생성"
   ]
  },
  {
   "cell_type": "code",
   "execution_count": 14,
   "id": "82779573",
   "metadata": {},
   "outputs": [],
   "source": [
    "df_test = pd.merge(X_test, y_test, left_index = True, right_index = True)"
   ]
  },
  {
   "cell_type": "code",
   "execution_count": 15,
   "id": "595a3748",
   "metadata": {},
   "outputs": [],
   "source": [
    "df_test['Date'] = pd.to_datetime(df_test['Date'], unit='s')"
   ]
  },
  {
   "cell_type": "code",
   "execution_count": 16,
   "id": "76b5bb6f",
   "metadata": {
    "scrolled": true
   },
   "outputs": [],
   "source": [
    "df_test['Prediction'] = y_pred"
   ]
  },
  {
   "cell_type": "code",
   "execution_count": 17,
   "id": "591ca2d6",
   "metadata": {},
   "outputs": [],
   "source": [
    "df_test = df_test.sort_index(ascending = True)"
   ]
  },
  {
   "cell_type": "code",
   "execution_count": 18,
   "id": "ef13703e",
   "metadata": {},
   "outputs": [],
   "source": [
    "df_test['Prediction'] = df_test['Prediction'].astype('int')"
   ]
  },
  {
   "cell_type": "code",
   "execution_count": 19,
   "id": "36c56808",
   "metadata": {
    "scrolled": true
   },
   "outputs": [
    {
     "data": {
      "text/html": [
       "<div>\n",
       "<style scoped>\n",
       "    .dataframe tbody tr th:only-of-type {\n",
       "        vertical-align: middle;\n",
       "    }\n",
       "\n",
       "    .dataframe tbody tr th {\n",
       "        vertical-align: top;\n",
       "    }\n",
       "\n",
       "    .dataframe thead th {\n",
       "        text-align: right;\n",
       "    }\n",
       "</style>\n",
       "<table border=\"1\" class=\"dataframe\">\n",
       "  <thead>\n",
       "    <tr style=\"text-align: right;\">\n",
       "      <th></th>\n",
       "      <th>Date</th>\n",
       "      <th>Customer</th>\n",
       "      <th>SKU</th>\n",
       "      <th>Actual_Price</th>\n",
       "      <th>List_Price</th>\n",
       "      <th>Discount_Rate</th>\n",
       "      <th>Featured_SKU</th>\n",
       "      <th>Units_Sold</th>\n",
       "      <th>Prediction</th>\n",
       "    </tr>\n",
       "  </thead>\n",
       "  <tbody>\n",
       "    <tr>\n",
       "      <th>8</th>\n",
       "      <td>2023-07-01</td>\n",
       "      <td>8091</td>\n",
       "      <td>223153</td>\n",
       "      <td>213.0375</td>\n",
       "      <td>213.0375</td>\n",
       "      <td>0.0</td>\n",
       "      <td>0</td>\n",
       "      <td>18</td>\n",
       "      <td>13</td>\n",
       "    </tr>\n",
       "    <tr>\n",
       "      <th>12</th>\n",
       "      <td>2023-07-01</td>\n",
       "      <td>8095</td>\n",
       "      <td>219009</td>\n",
       "      <td>213.0375</td>\n",
       "      <td>213.0375</td>\n",
       "      <td>0.0</td>\n",
       "      <td>0</td>\n",
       "      <td>108</td>\n",
       "      <td>108</td>\n",
       "    </tr>\n",
       "    <tr>\n",
       "      <th>14</th>\n",
       "      <td>2023-07-01</td>\n",
       "      <td>8095</td>\n",
       "      <td>320485</td>\n",
       "      <td>205.9125</td>\n",
       "      <td>205.9125</td>\n",
       "      <td>0.0</td>\n",
       "      <td>0</td>\n",
       "      <td>34</td>\n",
       "      <td>32</td>\n",
       "    </tr>\n",
       "    <tr>\n",
       "      <th>16</th>\n",
       "      <td>2023-07-01</td>\n",
       "      <td>8095</td>\n",
       "      <td>222765</td>\n",
       "      <td>234.4125</td>\n",
       "      <td>234.4125</td>\n",
       "      <td>0.0</td>\n",
       "      <td>0</td>\n",
       "      <td>82</td>\n",
       "      <td>79</td>\n",
       "    </tr>\n",
       "    <tr>\n",
       "      <th>24</th>\n",
       "      <td>2023-07-01</td>\n",
       "      <td>8094</td>\n",
       "      <td>216425</td>\n",
       "      <td>129.6750</td>\n",
       "      <td>129.6750</td>\n",
       "      <td>0.0</td>\n",
       "      <td>0</td>\n",
       "      <td>31</td>\n",
       "      <td>31</td>\n",
       "    </tr>\n",
       "  </tbody>\n",
       "</table>\n",
       "</div>"
      ],
      "text/plain": [
       "         Date  Customer     SKU  Actual_Price  List_Price  Discount_Rate  \\\n",
       "8  2023-07-01      8091  223153      213.0375    213.0375            0.0   \n",
       "12 2023-07-01      8095  219009      213.0375    213.0375            0.0   \n",
       "14 2023-07-01      8095  320485      205.9125    205.9125            0.0   \n",
       "16 2023-07-01      8095  222765      234.4125    234.4125            0.0   \n",
       "24 2023-07-01      8094  216425      129.6750    129.6750            0.0   \n",
       "\n",
       "    Featured_SKU  Units_Sold  Prediction  \n",
       "8              0          18          13  \n",
       "12             0         108         108  \n",
       "14             0          34          32  \n",
       "16             0          82          79  \n",
       "24             0          31          31  "
      ]
     },
     "execution_count": 19,
     "metadata": {},
     "output_type": "execute_result"
    }
   ],
   "source": [
    "df_test.head(5)"
   ]
  },
  {
   "cell_type": "markdown",
   "id": "d4fb5fc5",
   "metadata": {},
   "source": [
    "## 현업 배포를 위한 모델 저장/불러오기"
   ]
  },
  {
   "cell_type": "code",
   "execution_count": 20,
   "id": "cda94a25",
   "metadata": {},
   "outputs": [
    {
     "data": {
      "text/plain": [
       "['Sales Forecasting.pkl']"
      ]
     },
     "execution_count": 20,
     "metadata": {},
     "output_type": "execute_result"
    }
   ],
   "source": [
    "import joblib\n",
    "\n",
    "joblib.dump(model, 'Sales Forecasting.pkl')"
   ]
  },
  {
   "cell_type": "code",
   "execution_count": 21,
   "id": "d9267cc0",
   "metadata": {},
   "outputs": [],
   "source": [
    "import joblib\n",
    "import pandas as pd\n",
    "\n",
    "df = pd.read_csv(\"Promotion_Plan.csv\")\n",
    "\n",
    "loaded_model = joblib.load('Sales_Forecasting.pkl')\n",
    "\n",
    "df['Date'] = pd.to_datetime(df['Date'])\n",
    "df['Date'] = df['Date'].apply(lambda x: x.timestamp())\n",
    "\n",
    "predictions = loaded_model.predict(df)\n",
    "\n",
    "df['Prediction'] = predictions"
   ]
  },
  {
   "cell_type": "markdown",
   "id": "b2d1916e",
   "metadata": {},
   "source": [
    "## BayesSearch 통한 하이퍼 파라미터 튜닝"
   ]
  },
  {
   "cell_type": "code",
   "execution_count": 22,
   "id": "55d0187c",
   "metadata": {},
   "outputs": [],
   "source": [
    "param_space = {\n",
    "    'num_leaves': (20, 50),\n",
    "    'max_depth': (5, 15),\n",
    "    'learning_rate': (0.01, 0.3, 'log-uniform'),\n",
    "    'n_estimators': (100, 1000),\n",
    "    'min_child_samples': (10, 100),\n",
    "    'subsample': (0.5, 1.0, 'uniform'),\n",
    "    'colsample_bytree': (0.5, 1.0, 'uniform')\n",
    "}"
   ]
  },
  {
   "cell_type": "code",
   "execution_count": 23,
   "id": "066e5b91",
   "metadata": {},
   "outputs": [],
   "source": [
    "opt = BayesSearchCV(\n",
    "    estimator=model,\n",
    "    search_spaces=param_space,\n",
    "    n_iter=32,\n",
    "    cv=3,\n",
    "    n_jobs=-1,\n",
    "    scoring='r2',\n",
    "    random_state=0\n",
    ")"
   ]
  },
  {
   "cell_type": "code",
   "execution_count": 24,
   "id": "5207bb96",
   "metadata": {},
   "outputs": [
    {
     "name": "stdout",
     "output_type": "stream",
     "text": [
      "Best parameters found:  OrderedDict([('colsample_bytree', 0.5), ('learning_rate', 0.15290983639896633), ('max_depth', 15), ('min_child_samples', 10), ('n_estimators', 1000), ('num_leaves', 50), ('subsample', 0.5)])\n",
      "R² score:  0.8471455082768066\n"
     ]
    }
   ],
   "source": [
    "opt.fit(X_train, y_train)\n",
    "\n",
    "print(\"Best parameters found: \", opt.best_params_)\n",
    "\n",
    "y_pred = opt.predict(X_test)\n",
    "print(\"R² score: \", r2_score(y_test, y_pred))"
   ]
  }
 ],
 "metadata": {
  "kernelspec": {
   "display_name": "Python 3 (ipykernel)",
   "language": "python",
   "name": "python3"
  },
  "language_info": {
   "codemirror_mode": {
    "name": "ipython",
    "version": 3
   },
   "file_extension": ".py",
   "mimetype": "text/x-python",
   "name": "python",
   "nbconvert_exporter": "python",
   "pygments_lexer": "ipython3",
   "version": "3.10.9"
  }
 },
 "nbformat": 4,
 "nbformat_minor": 5
}
