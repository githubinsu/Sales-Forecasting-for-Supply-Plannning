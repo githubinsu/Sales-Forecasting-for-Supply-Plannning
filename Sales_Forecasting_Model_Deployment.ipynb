{
 "cells": [
  {
   "cell_type": "code",
   "execution_count": null,
   "id": "e364d93b",
   "metadata": {},
   "outputs": [],
   "source": [
    "import joblib\n",
    "import pandas as pd\n",
    "\n",
    "df = pd.read_csv(\"Promotion_Plan.csv\")\n",
    "\n",
    "loaded_model = joblib.load('Sales_Forecasting.pkl')\n",
    "\n",
    "df['Date'] = pd.to_datetime(df['Date'])\n",
    "df['Date'] = df['Date'].apply(lambda x: x.timestamp())\n",
    "\n",
    "predictions = loaded_model.predict(df)\n",
    "\n",
    "df['Prediction'] = predictions"
   ]
  },
  {
   "cell_type": "code",
   "execution_count": null,
   "id": "144daaab",
   "metadata": {},
   "outputs": [],
   "source": [
    "df.to_csv('Sales_Forecasting.csv')"
   ]
  }
 ],
 "metadata": {
  "kernelspec": {
   "display_name": "Python 3 (ipykernel)",
   "language": "python",
   "name": "python3"
  },
  "language_info": {
   "codemirror_mode": {
    "name": "ipython",
    "version": 3
   },
   "file_extension": ".py",
   "mimetype": "text/x-python",
   "name": "python",
   "nbconvert_exporter": "python",
   "pygments_lexer": "ipython3",
   "version": "3.10.9"
  }
 },
 "nbformat": 4,
 "nbformat_minor": 5
}
